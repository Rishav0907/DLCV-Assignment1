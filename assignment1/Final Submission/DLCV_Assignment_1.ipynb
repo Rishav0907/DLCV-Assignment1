{
 "cells": [
  {
   "cell_type": "markdown",
   "metadata": {
    "colab_type": "text",
    "id": "KE1Rct79pdT1"
   },
   "source": [
    "# DLCV Assignment 1\n",
    "\n",
    "**Due Date: 22/02/2024 11:59PM IST**\n",
    "\n",
    "**Name:** Rishav Saha\n",
    "\n",
    "**Sr. No.:** 22573\n",
    "\n",
    "\n",
    "In this assignment, we will cover the following topics:\n",
    "\n",
    "1) Training a simple Linear Model \n",
    "\n",
    "2) Implementing Modules with Backprop functionality\n",
    "\n",
    "3) Implementing Convolution Module on Numpy\n",
    "\n",
    "\n",
    "It is crucial to get down to the nitty gritty of the code to implement all of these. No external packages (like caffe,pytorch etc), which directly give functions for these steps, are to be used. "
   ]
  },
  {
   "cell_type": "markdown",
   "metadata": {
    "colab_type": "text",
    "id": "Emb3Bo_NpdUl"
   },
   "source": [
    "# Training a simple Linear Model\n",
    "\n",
    "In this section, you will write the code to train a Linear Model. The goal is to classify an input $X_i$ of size $n$ into one of $m$ classes. For this, you need to consider the following:\n",
    "\n",
    "1)  **Weight Matrix** $W_{n\\times m}$: The Weights are multipled with the input $X_i$ (vector of size $n$), to find $m$ scores $S_m$ for the $m$ classes.\n",
    "\n",
    "2)  **The Loss function**:   \n",
    "  * The Cross Entropy Loss: By interpreting the scores as unnormalized log probabilities for each class, this loss tries to measure dissatisfaction with the scores in terms of the log probability of the right class:\n",
    "\n",
    "$$\n",
    "L_i = -\\log\\left(\\frac{e^{f_{y_i}}}{ \\sum_j e^{f_j} }\\right) \\hspace{0.5in} \\text{or equivalently} \\hspace{0.5in} L_i = -f_{y_i} + \\log\\sum_j e^{f_j}\n",
    "$$\n",
    "\n",
    "where $f_{ y_i }$ is the $y_i$-th element of the output of $W^T  X_i$\n",
    "\n",
    "3) **A Regularization term**: In addition to the loss, you need a Regularization term to lead to a more distributed (in case of $L_2$) or sparse (in case of $L_1$) learning of the weights. For example, with $L_2$ regularization, the loss has the following additional term:\n",
    "\n",
    "$$\n",
    "R(W) = \\sum_k\\sum_l W_{k,l}^2  \n",
    "$$\n",
    "\n",
    "Thus the total loss has the form:\n",
    "$$\n",
    "L =  \\underbrace{ \\frac{1}{N} \\sum_i L_i }_\\text{data loss} + \\underbrace{ \\lambda R(W) }_\\text{regularization loss} \\\\\\\\\n",
    "$$\n",
    "\n",
    "4) **An Optimization Procedure**: This refers to the process which tweaks the weight Matrix $W_{n\\times m}$ to reduce the loss function $L$. In our case, this refers to Mini-batch Gradient Descent algorithm. We adjust the weights $W_{n\\times m}$, based on the gradient of the loss $L$ w.r.t. $W_{n\\times m}$. This leads to:\n",
    "$$\n",
    "W_{t+1} = W_{t} - \\alpha \\frac{\\partial L}{\\partial W},\n",
    "$$\n",
    "where $\\alpha$ is the learning rate. Additionally, with \"mini-batch\" gradient descent, instead of finding loss over the whole dataset, we use a small sample $B$ of the training data to make each learning step. Hence,\n",
    "$$\n",
    "W_{t+1} = W_{t} - \\alpha \\frac{\\partial \\sum_{i \\in B}{L_{x_i}}}{\\partial W},\n",
    "$$\n",
    "where $|B|$ is the batch size."
   ]
  },
  {
   "cell_type": "markdown",
   "metadata": {
    "colab_type": "text",
    "id": "I2neGQlEpdVD"
   },
   "source": [
    "# Question 1\n",
    "\n",
    "Train a **Single-Layer Classifier** for the MNIST dataset. \n",
    "* Use Softmax-Loss.\n",
    "* Maintain a train-validation split of the original training set for finding the right value of $\\lambda$ for the regularization, and to check for over-fitting.\n",
    "* Finally, evaluate the classification performance on the test-set.\n"
   ]
  },
  {
   "cell_type": "code",
   "execution_count": 83,
   "metadata": {
    "colab": {},
    "colab_type": "code",
    "id": "jwa72NJTpdVc"
   },
   "outputs": [],
   "source": [
    "## Load The Mnist data:\n",
    "# Download data from http://yann.lecun.com/exdb/mnist/\n",
    "# load the data.\n",
    "import idx2numpy\n",
    "from sklearn.model_selection import train_test_split\n",
    "\n",
    "data=idx2numpy.convert_from_file('train-images.idx3-ubyte')\n",
    "labels=idx2numpy.convert_from_file('train-labels.idx1-ubyte')\n",
    "test_data=idx2numpy.convert_from_file('t10k-images.idx3-ubyte')\n",
    "test_label=idx2numpy.convert_from_file('t10k-labels.idx1-ubyte')\n",
    "\n",
    "#normalizing the data\n",
    "data=data/255.0\n",
    "test_data=test_data/255.0\n",
    "\n",
    "# maintain a train-val split\n",
    "training_x,crossval_x,training_y,crossval_y=train_test_split(data, labels, test_size=0.3)\n",
    "\n",
    "# Now, write a generator that yields (random) mini-batches of the input data\n",
    "# Do not use same set of mini-batches for different epochs\n",
    "    \n",
    "def get_minibatch(training_x=training_x, training_y=training_y,batch_size_param=32):\n",
    "    ## Read about Python generators if required.\n",
    "\n",
    "    ## WRITE CODE HERE\n",
    "    batch_size=batch_size_param\n",
    "    num_samples = len(training_x)\n",
    "    indices = np.arange(num_samples)\n",
    "    np.random.shuffle(indices)\n",
    "    num_batches = num_samples // batch_size\n",
    "    for i in range(num_batches):\n",
    "        start_idx = i * batch_size\n",
    "        end_idx = (i + 1) * batch_size\n",
    "        batch_indices = indices[start_idx:end_idx]\n",
    "        mini_x = training_x[batch_indices]\n",
    "        mini_y = training_y[batch_indices]\n",
    "        yield mini_x, mini_y"
   ]
  },
  {
   "cell_type": "code",
   "execution_count": 141,
   "metadata": {
    "colab": {},
    "colab_type": "code",
    "id": "HVMwqheRpdXo"
   },
   "outputs": [],
   "source": [
    "LAMBDA=0.1\n",
    "import numpy as np\n",
    "class Single_layer_classifier():\n",
    "    \n",
    "    def __init__(self, input_size, output_size):\n",
    "        \n",
    "        ## WRITE CODE HERE\n",
    "        \n",
    "        # Give the instance a weight matrix, initialized randomly\n",
    "        # One possible strategy for a good initialization is Normal (0, σ) where σ = 1e-3.\n",
    "        mean=0\n",
    "        std_dev=10**(-3)\n",
    "        self.weight_matrix=np.random.normal(loc=mean,scale=std_dev,size=(input_size,output_size))\n",
    "        self.biases = np.zeros(output_size)\n",
    "        # print(self.weight_matrix)\n",
    "        # Try experimenting with different values of σ.\n",
    "        \n",
    "        # Xavier init\n",
    "        # std_dev_2=2/(input_size+output_size)\n",
    "        # W=np.random.normal(loc=mean,scale=std_dev_2,size=(input_size,output_size))\n",
    "        # print(W)\n",
    "        \n",
    "        \n",
    "    # Define the forward function\n",
    "    def forward(self, input_x):\n",
    "        \n",
    "        # get the scores\n",
    "        ## WRITE CODE HERE\n",
    "        self.input_x=input_x\n",
    "        self.scores=np.dot(input_x,self.weight_matrix) + self.biases\n",
    "        return self.scores\n",
    "        # return scores\n",
    "    \n",
    "    # Similarly a backward function\n",
    "    # we define 2 backward functions (as Loss = L_data + L_reg, grad(Loss) = grad(L1) + grad(L2))\n",
    "    \n",
    "    def backward_Ldata(self, grad_from_loss):\n",
    "        \n",
    "        # this function returns a matrix of the same size as the weights, \n",
    "        # where each element is the partial derivative of the loss w.r.t. the corresponding element of W\n",
    "        \n",
    "        ## WRITE CODE HERE\n",
    "        # grad_scores_wrt_weights = self.input_x.T\n",
    "        # print(grad_scores_wrt_weights)\n",
    "        # Compute the gradient of the loss with respect to the weights using the chain rule\n",
    "        # print(self.input_x)\n",
    "        grad_loss_wrt_weights = np.dot(self.input_x.T , grad_from_loss) / len(self.input_x)\n",
    "        grad_bias=np.mean(grad_from_loss, axis=0)\n",
    "        # Return the gradient of the loss with respect to the weights\n",
    "        return grad_loss_wrt_weights,grad_bias\n",
    "        \n",
    "    def backward_Lreg(self):\n",
    "        \n",
    "        # this function returns a matrix of the same size as the weights, \n",
    "        # where each element is the partial derivative of the regularization-term\n",
    "        # w.r.t. the corresponding element of W\n",
    "        \n",
    "        ## WRITE CODE HERE\n",
    "        frobenius_norm=np.linalg.norm(self.weight_matrix,ord=None)\n",
    "        l2_reg=frobenius_norm\n",
    "        return l2_reg"
   ]
  },
  {
   "cell_type": "code",
   "execution_count": 142,
   "metadata": {
    "colab": {},
    "colab_type": "code",
    "id": "BM3EhmY0pdYZ"
   },
   "outputs": [],
   "source": [
    "# Implement the Softmax loss function\n",
    "def softmax(scores):\n",
    "    #softmax\n",
    "    exp_scores=np.exp(scores)\n",
    "    # print(scores)\n",
    "    softmax_prob=exp_scores/np.sum(exp_scores)\n",
    "    return softmax_prob\n",
    "    \n",
    "def loss_function(input_y,scores):\n",
    "\n",
    "    # ## WRITE CODE HERE  \n",
    "    total_samples = input_y.shape[0] # Number of samples\n",
    "    softmax_prob=softmax(scores)\n",
    "    loss= -np.mean(np.sum(input_y * np.log(softmax_prob), axis=1))\n",
    "    return loss\n",
    "\n",
    "    \n",
    "def loss_backward(scores,y):\n",
    "    # This part deals with the gradient of the loss w.r.t the output of network\n",
    "    # for example, in case of softmax loss(-log(q_c)), this part gives grad(loss) w.r.t. q_c\n",
    "    # pass this to backward_ldata\n",
    "    \n",
    "    ## WRITE CODE HERE    \n",
    "    grad_from_loss=softmax(scores) - y\n",
    "    # Return the gradient of the loss with respect to the scores\n",
    "    return grad_from_loss\n",
    "    "
   ]
  },
  {
   "cell_type": "markdown",
   "metadata": {},
   "source": [
    "### Create utility functions for calculating training and validation accuracy"
   ]
  },
  {
   "cell_type": "code",
   "execution_count": 143,
   "metadata": {},
   "outputs": [],
   "source": [
    "# WRITE CODE HERE"
   ]
  },
  {
   "cell_type": "code",
   "execution_count": 144,
   "metadata": {},
   "outputs": [],
   "source": [
    "def one_hot_encoding(y_labels,num_classes):\n",
    "    batch_size= len(y_labels)\n",
    "    one_hot = np.zeros((batch_size, num_classes))\n",
    "    one_hot[np.arange(batch_size), y_labels] = 1\n",
    "    return one_hot"
   ]
  },
  {
   "cell_type": "code",
   "execution_count": 145,
   "metadata": {},
   "outputs": [],
   "source": [
    "def accuracy(input_x,input_y,classifier,BATCH_SIZE):\n",
    "    input_x_reshaped=np.reshape(input_x,(BATCH_SIZE,784))\n",
    "    scores=softmax(classifier.forward(input_x_reshaped))\n",
    "    predicted_class=np.argmax(scores,axis=1)\n",
    "    # print(predicted_class)\n",
    "    # predicted_class_one_hot_encoded=one_hot_encoded_labels(predicted_class,10)\n",
    "    return np.mean(predicted_class==np.argmax(input_y,axis=1))"
   ]
  },
  {
   "cell_type": "code",
   "execution_count": 146,
   "metadata": {},
   "outputs": [],
   "source": [
    "# minibatch=get_minibatch()"
   ]
  },
  {
   "cell_type": "code",
   "execution_count": 156,
   "metadata": {
    "colab": {},
    "colab_type": "code",
    "id": "AhpaaUvJpdZJ"
   },
   "outputs": [],
   "source": [
    "# Finally the trainer:\n",
    "# Make an instance of Single_layer_classifier\n",
    "# Train for t epochs:\n",
    "###  Train on the train-set obtained from train-validation split\n",
    "###  Use the mini-batch generator to get each mini-batch\n",
    "EPOCHS=10\n",
    "LEARNING_RATE=0.01\n",
    "training_losses_nn=[]\n",
    "train_accuracies_nn=[]\n",
    "validation_accuracies_nn=[]\n",
    "\n",
    "def training(EPOCH_SIZE,BATCH_SIZE,x_train,y_train):\n",
    "    classifier=Single_layer_classifier(784,10)\n",
    "    for epoch in range(EPOCHS):\n",
    "        minibatch=get_minibatch(training_x=x_train,training_y=y_train,batch_size_param=BATCH_SIZE)\n",
    "        for iter_num,(input_x , input_y) in enumerate(minibatch):\n",
    "            # Write code for each iteration of the training\n",
    "            # print(iter_num)\n",
    "            # print(input_x[0])\n",
    "            # break\n",
    "            one_hot_encoded_labels=one_hot_encoding(input_y,10)\n",
    "            input_x_reshaped=np.reshape(input_x,(BATCH_SIZE,28*28))\n",
    "            \n",
    "            # Forward pass\n",
    "            scores=classifier.forward(input_x_reshaped) # 100 *10\n",
    "            # print(scores)\n",
    "    \n",
    "            #loss\n",
    "            loss=loss_function(one_hot_encoded_labels,scores)\n",
    "            lreg=classifier.backward_Lreg()\n",
    "            # print(f\"reg shape: {lreg.shape}\")\n",
    "            # print(f\"loss shape: {loss.shape}\")\n",
    "            # print(loss)\n",
    "            training_losses_nn.append(loss+(LAMBDA*lreg))\n",
    "        \n",
    "            # Backward pass\n",
    "            output_gradient=loss_backward(scores,one_hot_encoded_labels)\n",
    "            final_grad_out,gradient_bias=classifier.backward_Ldata(output_gradient)\n",
    "            # Update weights\n",
    "            classifier.weight_matrix-=LEARNING_RATE*(final_grad_out)\n",
    "            classifier.biases-=LEARNING_RATE*gradient_bias\n",
    "            # Log the training loss value and training accuracy \n",
    "            if iter_num % 100 == 0:\n",
    "                train_accuracy = accuracy(input_x, one_hot_encoded_labels, classifier,BATCH_SIZE)\n",
    "                train_accuracies_nn.append(train_accuracy)\n",
    "    return classifier"
   ]
  },
  {
   "cell_type": "code",
   "execution_count": 157,
   "metadata": {},
   "outputs": [],
   "source": [
    "import warnings\n",
    "warnings.filterwarnings(\"ignore\")\n",
    "\n",
    "first_train_classifier=training(15,128,x_train=training_x,y_train=training_y)"
   ]
  },
  {
   "cell_type": "code",
   "execution_count": 158,
   "metadata": {},
   "outputs": [],
   "source": [
    "# training_losses_nn"
   ]
  },
  {
   "cell_type": "markdown",
   "metadata": {},
   "source": [
    "### Plot the training loss and training accuracy plot"
   ]
  },
  {
   "cell_type": "code",
   "execution_count": 159,
   "metadata": {},
   "outputs": [
    {
     "data": {
      "image/png": "[encoded data removed]",
      "text/plain": [
       "<Figure size 1000x500 with 2 Axes>"
      ]
     },
     "metadata": {},
     "output_type": "display_data"
    }
   ],
   "source": [
    "# WRITE CODE HERE\n",
    "from matplotlib import pyplot as plt\n",
    "plt.figure(figsize=(10, 5))\n",
    "plt.subplot(1, 2, 1)\n",
    "plt.plot(training_losses_nn, label='Training Loss')\n",
    "plt.xlabel('Epoch')\n",
    "plt.ylabel('Loss')\n",
    "plt.title('Training Loss')\n",
    "plt.legend()\n",
    "\n",
    "plt.subplot(1, 2, 2)\n",
    "plt.plot(train_accuracies_nn, label='Training Accuracy')\n",
    "plt.xlabel('Epoch')\n",
    "plt.ylabel('Accuracy')\n",
    "plt.title('Training Accuracy')\n",
    "plt.legend()\n",
    "\n",
    "plt.show()"
   ]
  },
  {
   "cell_type": "markdown",
   "metadata": {
    "colab": {},
    "colab_type": "code",
    "id": "RH22BqefpdZ4"
   },
   "source": [
    "### Find the accuracy on the validation set"
   ]
  },
  {
   "cell_type": "code",
   "execution_count": 165,
   "metadata": {},
   "outputs": [
    {
     "name": "stdout",
     "output_type": "stream",
     "text": [
      "Accuracy on Validation Set : 71.0%\n"
     ]
    }
   ],
   "source": [
    "def validation(classifier, validation_x, validation_y,BATCH_SIZE):\n",
    "    validation_accuracies = []\n",
    "    validation_minibatch=get_minibatch(training_x=validation_x,training_y=validation_y,batch_size_param=BATCH_SIZE)\n",
    "    for input_x, input_y in validation_minibatch:\n",
    "        one_hot_encoded_labels = one_hot_encoding(input_y, 10)\n",
    "        input_x_reshaped = np.reshape(input_x, (BATCH_SIZE, 28 * 28))\n",
    "        \n",
    "        # Forward pass\n",
    "        scores = classifier.forward(input_x_reshaped)\n",
    "        \n",
    "        \n",
    "        validation_accuracy = accuracy(input_x, one_hot_encoded_labels, classifier,BATCH_SIZE=BATCH_SIZE)\n",
    "        validation_accuracies.append(validation_accuracy)\n",
    "    \n",
    "   \n",
    "    mean_validation_accuracy = np.mean(validation_accuracies)\n",
    "    # plt.plot(validation_accuracies,label=\"Validation Accuracy\")\n",
    "    \n",
    "    return mean_validation_accuracy\n",
    "val_acc=validation(first_train_classifier,crossval_x,crossval_y,32)\n",
    "print(f\"Accuracy on Validation Set : {round(val_acc,2)*100}%\")"
   ]
  },
  {
   "cell_type": "code",
   "execution_count": 167,
   "metadata": {
    "colab": {},
    "colab_type": "code",
    "id": "7wMDvvA4pdbN"
   },
   "outputs": [
    {
     "name": "stdout",
     "output_type": "stream",
     "text": [
      "10\n",
      "64\n"
     ]
    }
   ],
   "source": [
    "# The next step is to find the optimal value for lambda, number of epochs, learning rate and batch size. \n",
    "# CHOSE ANY TWO from the above mentioned to tune.\n",
    "# Create plot and table to show the effect of the hparams.\n",
    "\n",
    "# using grid search\n",
    "batch_size_candidates=[8,16,32,64,128,256]\n",
    "epoch_size_candidates=[10,20,30,40,50,60]\n",
    "\n",
    "highest_accuracy=0\n",
    "best_epoch_size=None\n",
    "best_batch_size=None\n",
    "\n",
    "for batch in batch_size_candidates:\n",
    "    for epoch in epoch_size_candidates:\n",
    "        trained_classifier=training(EPOCH_SIZE=epoch,BATCH_SIZE=batch,x_train=training_x,y_train=training_y)\n",
    "        validation_mean_accuracy=validation(trained_classifier,crossval_x,crossval_y,batch)\n",
    "\n",
    "        if validation_mean_accuracy>highest_accuracy:\n",
    "            highest_accuracy=validation_mean_accuracy\n",
    "            best_epoch_size=epoch\n",
    "            best_batch_size=batch\n",
    "\n",
    "print(best_epoch_size)\n",
    "print(best_batch_size)"
   ]
  },
  {
   "cell_type": "markdown",
   "metadata": {
    "colab": {},
    "colab_type": "code",
    "id": "BDrq0GfKpdb8"
   },
   "source": [
    "### Report final performance on MNIST test set"
   ]
  },
  {
   "cell_type": "code",
   "execution_count": 168,
   "metadata": {},
   "outputs": [],
   "source": [
    "# WRITE CODE HERE\n",
    "#training using the best parameters\n",
    "\n",
    "best_train_classifier=training(BATCH_SIZE=best_batch_size,EPOCH_SIZE=best_epoch_size,x_train=training_x,y_train=training_y)"
   ]
  },
  {
   "cell_type": "code",
   "execution_count": 169,
   "metadata": {},
   "outputs": [
    {
     "name": "stdout",
     "output_type": "stream",
     "text": [
      "Test Accuracy : 73.4375 % \n"
     ]
    }
   ],
   "source": [
    "test_label_one_hot_encoded=one_hot_encoding(test_label[0:best_batch_size],10)\n",
    "test_accuracy=accuracy(test_data[0:best_batch_size],test_label_one_hot_encoded,best_train_classifier,best_batch_size)*100\n",
    "print(f\"Test Accuracy : {test_accuracy} % \")"
   ]
  },
  {
   "cell_type": "markdown",
   "metadata": {},
   "source": [
    "### Find the best performing class and the worst performing class"
   ]
  },
  {
   "cell_type": "code",
   "execution_count": 170,
   "metadata": {},
   "outputs": [
    {
     "name": "stdout",
     "output_type": "stream",
     "text": [
      "Best Performing Class : 0\n"
     ]
    }
   ],
   "source": [
    "# WRITE CODE HERE\n",
    "class_performance={}\n",
    "def performance_check(input_x,input_y,classifier):\n",
    "    input_x_reshaped = np.reshape(input_x, (len(input_x), 784))\n",
    "    scores = softmax(classifier.forward(input_x_reshaped))\n",
    "    predicted_class = np.argmax(scores, axis=1)\n",
    "    for i in range(len(input_x)):\n",
    "        if input_y[i] != predicted_class[i]:\n",
    "            if input_y[i] not in class_performance:\n",
    "                class_performance[input_y[i]] = 1\n",
    "            else:\n",
    "                class_performance[input_y[i]] += 1\n",
    "\n",
    "performance_check(test_data,test_label,best_train_classifier)\n",
    "# print(class_performance)\n",
    "\n",
    "Keymin = min(zip(class_performance.values(), class_performance.keys()))[1]\n",
    "print(f\"Best Performing Class : {Keymin}\")"
   ]
  },
  {
   "cell_type": "markdown",
   "metadata": {
    "colab_type": "text",
    "id": "Emb3Bo_NpdUl"
   },
   "source": [
    "# Training a Linear Classifier on MNIST from scikit-learn\n",
    "\n",
    "In this section you have to train a linear classifier from the scikit-learn library and compare its results against your implementation.\n",
    "(https://scikit-learn.org/stable/modules/generated/sklearn.linear_model.LinearRegression.html)"
   ]
  },
  {
   "cell_type": "code",
   "execution_count": 171,
   "metadata": {},
   "outputs": [],
   "source": [
    "    # WRITE CODE HERE \n",
    "    # WRITE CODE HERE \n",
    "from sklearn.linear_model import LogisticRegression\n",
    "X_train=training_x\n",
    "Y_train=training_y\n",
    "x_test=test_data\n",
    "y_test=test_label\n",
    "regression_model=LogisticRegression()\n",
    "X_train_reshaped=np.reshape(X_train,(42000,28*28))\n",
    "x_test_reshaped=np.reshape(x_test,(10000,28*28))\n",
    "# print(X_train_reshaped.shape)\n",
    "# print(Y_train.shape)\n",
    "# print(x_test.shape)\n",
    "regression_model.fit(X_train_reshaped,Y_train)\n",
    "y_pred=regression_model.predict(x_test_reshaped)"
   ]
  },
  {
   "cell_type": "code",
   "execution_count": 172,
   "metadata": {},
   "outputs": [
    {
     "data": {
      "text/plain": [
       "10000"
      ]
     },
     "execution_count": 172,
     "metadata": {},
     "output_type": "execute_result"
    }
   ],
   "source": [
    "len(y_pred)"
   ]
  },
  {
   "cell_type": "code",
   "execution_count": 173,
   "metadata": {},
   "outputs": [
    {
     "data": {
      "text/plain": [
       "10000"
      ]
     },
     "execution_count": 173,
     "metadata": {},
     "output_type": "execute_result"
    }
   ],
   "source": [
    "len(y_test)"
   ]
  },
  {
   "cell_type": "code",
   "execution_count": 174,
   "metadata": {},
   "outputs": [],
   "source": [
    "def sklearn_accuracy(y_pred,y_actual):\n",
    "    num_samples=len(y_pred)\n",
    "    correct_prediction=0\n",
    "    for i in range(num_samples):\n",
    "        if y_pred[i]==y_actual[i]:\n",
    "            correct_prediction+=1\n",
    "    return (correct_prediction/num_samples)*100"
   ]
  },
  {
   "cell_type": "markdown",
   "metadata": {},
   "source": [
    "### Compare the training and test accuracies for the your implementation and linear classifier from scikit-learn"
   ]
  },
  {
   "cell_type": "code",
   "execution_count": 175,
   "metadata": {},
   "outputs": [
    {
     "name": "stdout",
     "output_type": "stream",
     "text": [
      "Accuracy using scikit learn linear classifier : 92.4%\n",
      "Accuracy using our neural network : 73.4375%\n"
     ]
    }
   ],
   "source": [
    "    # WRITE CODE HERE\n",
    "scikit_accuracy=sklearn_accuracy(y_pred,y_test)\n",
    "print(f\"Accuracy using scikit learn linear classifier : {scikit_accuracy}%\")\n",
    "print(f\"Accuracy using our neural network : {test_accuracy}%\")"
   ]
  },
  {
   "cell_type": "markdown",
   "metadata": {},
   "source": [
    "### Any additional observations / comments?"
   ]
  },
  {
   "cell_type": "raw",
   "metadata": {},
   "source": [
    "Though the accuracy of our neural network iss comparatively less than that of the skleatn linear classifier but increasng the network depth will eventually result in better accuracy"
   ]
  },
  {
   "cell_type": "markdown",
   "metadata": {},
   "source": [
    "## BONUS Question\n",
    "### Observe the effect on test set accuracy by changing the number of training samples.\n",
    "### Train on 10%, 20% and 50% training data and plot the percentage of training data v.s. the test accuracy.  "
   ]
  },
  {
   "cell_type": "code",
   "execution_count": 176,
   "metadata": {},
   "outputs": [],
   "source": [
    "# WRITE CODE HERE\n",
    "training_data_size=[0.1,0.2,0.5]\n",
    "test_accuracy=[]\n",
    "for size in training_data_size:\n",
    "    new_training_x,new_test_x,new_training_y,new_test_y=train_test_split(data, labels, test_size=1-size)\n",
    "    model=training(EPOCH_SIZE=best_epoch_size,BATCH_SIZE=best_batch_size,x_train=new_training_x,y_train=new_training_y)\n",
    "    new_test_label_one_hot_encoded=one_hot_encoding(new_test_y[0:best_batch_size],10)\n",
    "    new_test_accuracy=accuracy(new_test_x[0:best_batch_size],new_test_label_one_hot_encoded,model,best_batch_size)*100\n",
    "    test_accuracy.append(new_test_accuracy)"
   ]
  },
  {
   "cell_type": "code",
   "execution_count": 181,
   "metadata": {},
   "outputs": [
    {
     "data": {
      "image/png": "[encoded data removed]",
      "text/plain": [
       "<Figure size 640x480 with 1 Axes>"
      ]
     },
     "metadata": {},
     "output_type": "display_data"
    }
   ],
   "source": [
    "plt.plot(training_data_size,test_accuracy)\n",
    "plt.title('Test Accuracy vs. Training Data Size')\n",
    "plt.xlabel('Training Data Size')\n",
    "plt.ylabel('Test Accuracy')\n",
    "plt.grid(True)"
   ]
  },
  {
   "cell_type": "markdown",
   "metadata": {
    "colab_type": "text",
    "id": "sXFJTTnkpdcp"
   },
   "source": [
    "# Implementing Backpropagation\n",
    "\n",
    "Now that you have had some experience with single layer networks, we can proceed to more complex architectures. But first we need to completely understand and implement backpropagation.\n",
    "\n",
    "## Backpropagation:\n",
    "\n",
    "Simply put, a way of computing gradients of expressions through repeated application of chain rule. If\n",
    "$$\n",
    "L = f (g (h (\\textbf{x})))\n",
    "$$\n",
    "then, by the chain rule we have:\n",
    "$$\n",
    "\\frac{\\partial L}{\\partial \\textbf{x}} = \\frac{\\partial f}{\\partial g} \\cdot \\frac{\\partial g}{\\partial h} \\cdot \\frac{\\partial h}{\\partial \\textbf{x}} \n",
    "$$\n",
    "\n",
    "** Look into the class Lecture for more detail **\n",
    "\n"
   ]
  },
  {
   "cell_type": "markdown",
   "metadata": {
    "colab_type": "text",
    "id": "UixM41Rppdcz"
   },
   "source": [
    "# Question 2 : Scalar Backpropagation\n",
    "\n",
    "Evaluate the gradient of the following function w.r.t. the input:\n",
    "\n",
    "$$ f(x,y,z) =  log(\\sigma(\\frac{cos(\\pi \\times x)+sin(\\pi \\times y/2)}{tanh(z^2)}))$$\n",
    "where $\\sigma$ is the sigmoid function. Find gradient for the following inputs:\n",
    "  * $(x,y,z)$ =  (2,4,1)\n",
    "  * $(x,y,z)$ =  (9,14,3)\n",
    "  * $(x,y,z)$ =  (128,42,666)\n",
    "  * $(x,y,z)$ =  (52,14,28)\n",
    "\n",
    "      "
   ]
  },
  {
   "cell_type": "code",
   "execution_count": 49,
   "metadata": {
    "colab": {},
    "colab_type": "code",
    "id": "Uu9zd5PLpdc_"
   },
   "outputs": [],
   "source": [
    "# To solve this problem, construct the computational graph\n",
    "# Write a class with forward and backward functions, for each node if you like\n",
    "# For eg:\n",
    "class Cos():\n",
    "    def __init__(self):\n",
    "        pass\n",
    "    def forward(self,x):\n",
    "        self.x=x\n",
    "        self.output=np.cos(np.pi*x)\n",
    "        return self.output\n",
    "    def backward(self,gradient_value):\n",
    "        self.gradient=gradient_value*(-1 * np.sin(self.x))\n",
    "        return self.gradient\n",
    "    \n",
    "class Sin():\n",
    "    # def __init__(\n",
    "    def forward(self,y):\n",
    "        self.y=y\n",
    "        self.output=np.sin(np.pi * (y/2))\n",
    "        return self.output\n",
    "    def backward(self,gradient_value):\n",
    "        self.gradient=gradient_value*np.cos(self.y)\n",
    "        return self.gradient\n",
    "    \n",
    "class Tanh():\n",
    "    def forward(self,z):\n",
    "        self.z=z\n",
    "        self.output=np.tanh(z**2)\n",
    "        return self.output\n",
    "    def backward(self,gradient_value):\n",
    "        self.gradient=gradient_value*(1-np.tanh(self.z)**2)\n",
    "        return self.gradient\n",
    "        \n",
    "\n",
    "class Sigmoid():\n",
    "    def __init__(self):\n",
    "        pass\n",
    "    def forward(self,cos_param,sin_param,tanh_param):\n",
    "        self.cos_param=cos_param\n",
    "        self.sin_param=sin_param\n",
    "        self.tanh_param=tanh_param\n",
    "        self.output=(self.cos_param+self.sin_param)/self.tanh_param\n",
    "        # save values useful for backpropagation\n",
    "        return self.output\n",
    "    \n",
    "    def backward(self,gradient_value):\n",
    "        self.gradient=gradient_value*(self.output*(1-self.output))\n",
    "        return self.gradient\n",
    "\n",
    "class Log():\n",
    "    def forward(self,sigmoid_parameter):\n",
    "        self.sigmoid_parameter=sigmoid_parameter\n",
    "        self.output=np.log(sigmoid_parameter)\n",
    "        return self.output\n",
    "    def backward(self,gradient_value):\n",
    "        self.gradient=gradient_value/self.sigmoid_parameter\n",
    "        return self.gradient\n",
    "        \n",
    "# CAUTION: Carefully treat the input and output dimension variation. At worst, handle them with if statements."
   ]
  },
  {
   "cell_type": "code",
   "execution_count": 52,
   "metadata": {
    "colab": {},
    "colab_type": "code",
    "id": "KyqeWPF0pddy"
   },
   "outputs": [],
   "source": [
    "# Now write the class func\n",
    "# which constructs the graph (all operators), forward and backward functions.\n",
    "\n",
    "class Func():\n",
    "    def __init__(self):\n",
    "        # construct the graph here\n",
    "        # assign the instances of function modules to self.var\n",
    "        self.cos=Cos()\n",
    "        self.sin=Sin()\n",
    "        self.tanh=Tanh()\n",
    "        self.log=Log()\n",
    "        self.sigmoid=Sigmoid()\n",
    "    def forward(self,x,y,z):\n",
    "        # Using the graph element's forward functions, get the output. \n",
    "        self.cos_param=self.cos.forward(x)\n",
    "        self.sin_param=self.sin.forward(y)\n",
    "        self.tanh_param=self.tanh.forward(z)\n",
    "        self.sigmoid_param=self.sigmoid.forward(self.cos_param,self.sin_param,self.tanh_param)\n",
    "        self.log_param=self.log.forward(self.sigmoid_param)\n",
    "        self.output=self.log_param\n",
    "        return self.output\n",
    "    \n",
    "    def backward(self):\n",
    "        grad_log = 1  # Gradient of the loss w.r.t. the output of the log\n",
    "        grad_log_back = self.log.backward(grad_log)\n",
    "\n",
    "        grad_sigma = self.sigmoid.backward(grad_log_back)\n",
    "\n",
    "        grad_cos = self.cos.backward(grad_sigma)\n",
    "        grad_sin = self.sin.backward(grad_sigma)\n",
    "        grad_tanh = self.tanh.backward(grad_sigma)\n",
    "\n",
    "\n",
    "        return grad_cos, grad_sin, grad_tanh"
   ]
  },
  {
   "cell_type": "code",
   "execution_count": 55,
   "metadata": {},
   "outputs": [
    {
     "name": "stdout",
     "output_type": "stream",
     "text": [
      " For x: 2 , y: 4 , z: 1\n",
      " Grad x :0.2846421796101843 , Grad_y :0.20461351747185724 , Grad_z:-0.13146678792954025\n",
      " For x: 9 , y: 14 , z: 3\n",
      " Grad x :-0.8242369830366254 , Grad_y :0.27347444058067727 , Grad_z:0.01973207463139951\n",
      " For x: 128 , y: 42 , z: 666\n",
      " Grad x :-7.204614010398276e-16 , Grad_y :-3.996656155908121e-16 , Grad_z:0.0\n",
      " For x: 52 , y: 14 , z: 8\n",
      " Grad x :8.763013355310581e-16 , Grad_y :-1.2144704638202484e-16 , Grad_z:-3.998051646950293e-22\n"
     ]
    },
    {
     "name": "stderr",
     "output_type": "stream",
     "text": [
      "/tmp/ipykernel_372246/2437296272.py:53: RuntimeWarning: invalid value encountered in log\n",
      "  self.output=np.log(sigmoid_parameter)\n"
     ]
    }
   ],
   "source": [
    "parameter_values=[[2,4,1],[9,14,3],[128,42,666],[52,14,8]]\n",
    "for value in parameter_values:\n",
    "    func=Func()\n",
    "    forward_val=func.forward(value[0],value[1],value[2])\n",
    "    grad_x, grad_y,grad_z=func.backward()\n",
    "    print(f\" For x: {value[0]} , y: {value[1]} , z: {value[2]}\")\n",
    "    print(f\" Grad x :{grad_x} , Grad_y :{grad_y} , Grad_z:{grad_z}\")"
   ]
  },
  {
   "cell_type": "markdown",
   "metadata": {
    "colab_type": "text",
    "id": "rYE4dEd-pdef"
   },
   "source": [
    "## Question 3 : Modular Vector Backpropagation\n",
    "\n",
    "* Construct a Linear Layer module, implementing the forward and backward functions for arbitrary sizes.\n",
    "* Construct a ReLU module, implementing the forward and backward functions for arbitrary sizes.\n",
    "* Create a 2 layer MLP using the constructed modules.\n",
    "\n",
    "* Modifying the functions built in Question 1 , train this two layer MLP for the same data set, MNIST, with the same train-val split."
   ]
  },
  {
   "cell_type": "code",
   "execution_count": 183,
   "metadata": {
    "colab": {},
    "colab_type": "code",
    "id": "0viOMFfFpden"
   },
   "outputs": [],
   "source": [
    "# Class for Linear Layer (If you're stuck, you can refer to code of PyTorch/Tensorflow packages) \n",
    "import numpy as np\n",
    "\n",
    "class LinearLayer:\n",
    "    def __init__(self,input_layer_size,output_layer_size):\n",
    "        mean=0\n",
    "        std_dev=10**(-3)\n",
    "        self.weight_matrix=np.random.normal(loc=mean,scale=std_dev,size=(input_layer_size,output_layer_size)) \n",
    "        # 784 x 128 for layer 1\n",
    "        # 128 x 10 for layer 2\n",
    "        # print(self.weight_matrix)\n",
    "    def forward(self,input_data):\n",
    "        self.input_data=input_data\n",
    "        # 100 x 784 for layer 1\n",
    "        # 100 x 128 for layer 2\n",
    "        self.score=np.dot(input_data,self.weight_matrix) \n",
    "        # 100 x 128 score shape for layer 1\n",
    "        # 100 x 10 score shape for layer 2\n",
    "        return self.score\n",
    "    def backward(self,gradient_output):\n",
    "        self.gradient_wrt_weights=np.dot(self.input_data.T,gradient_output)\n",
    "        # 128 x 10 for layer 2\n",
    "        return np.dot(gradient_output,self.weight_matrix.T)"
   ]
  },
  {
   "cell_type": "code",
   "execution_count": 184,
   "metadata": {
    "colab": {},
    "colab_type": "code",
    "id": "zmlWuzv1pdfK"
   },
   "outputs": [],
   "source": [
    "# class for ReLU\n",
    "class ReLU:\n",
    "    def forward(self,input_data):\n",
    "        self.input_data=input_data\n",
    "        self.out_data=np.maximum(0,input_data)\n",
    "        # print(self.out_data.shape) # 100 x 128\n",
    "        return self.out_data \n",
    "    def backward(self,out_grad):\n",
    "        # print(out_grad.shape)\n",
    "        # out_grad : 128 x 10\n",
    "        return out_grad*(self.input_data>0)"
   ]
  },
  {
   "cell_type": "code",
   "execution_count": 185,
   "metadata": {
    "colab": {},
    "colab_type": "code",
    "id": "ppSfRLySpdfv"
   },
   "outputs": [],
   "source": [
    "# class for MLP\n",
    "class MLP:\n",
    "    def __init__(self,input_layer_size,hidden_layer_size,output_layer_size):\n",
    "        self.linear_layer1=LinearLayer(input_layer_size,hidden_layer_size) # 784 x 128\n",
    "        self.relu=ReLU()\n",
    "        self.linear_layer_2=LinearLayer(hidden_layer_size,output_layer_size) # 128 x 10\n",
    "    def forward(self,input_X):\n",
    "        layer1_output=self.linear_layer1.forward(input_X)\n",
    "        # print(layer1_output)\n",
    "        relu_layer_output=self.relu.forward(layer1_output)\n",
    "        layer2_output=self.linear_layer_2.forward(relu_layer_output)\n",
    "        return layer2_output\n",
    "    def backward(self,gradient_output):\n",
    "        gradient_output1=self.linear_layer_2.backward(gradient_output)\n",
    "        gradient_output2=self.relu.backward(gradient_output1)\n",
    "        gradient_output3=self.linear_layer1.backward(gradient_output2)\n",
    "        return gradient_output3"
   ]
  },
  {
   "cell_type": "code",
   "execution_count": 186,
   "metadata": {},
   "outputs": [],
   "source": [
    "# performing one hot encoding\n",
    "def one_hot_encoding(y_labels,num_classes):\n",
    "    batch_size= len(y_labels)\n",
    "    one_hot = np.zeros((batch_size, num_classes))\n",
    "    one_hot[np.arange(batch_size), y_labels] = 1\n",
    "    return one_hot\n",
    "    \n",
    "def softmax1(scores):\n",
    "    #softmax\n",
    "    exp_scores=np.exp(scores)\n",
    "    # print(scores)\n",
    "    softmax_prob=exp_scores/np.sum(exp_scores,axis=1,keepdims=True)\n",
    "    return softmax_prob\n",
    "    \n",
    "def cross_entropy_loss(input_y,scores):\n",
    "\n",
    "    # num_of_datapoints = input_y.shape[0] # Number of samples\n",
    "    # softmax_prob=softmax1(scores)\n",
    "    # log_likelihood = -np.log(softmax_prob[range(num_of_datapoints), input_y.argmax(axis=1)])\n",
    "    # loss = np.sum(log_likelihood) / num_of_datapoints\n",
    "    # return loss\n",
    "    total_samples = input_y.shape[0] # Number of samples\n",
    "    softmax_prob=softmax(scores)\n",
    "    loss= -np.mean(np.sum(input_y * np.log(softmax_prob), axis=1))\n",
    "    return loss"
   ]
  },
  {
   "cell_type": "code",
   "execution_count": 187,
   "metadata": {},
   "outputs": [],
   "source": [
    "#load the data and use the  mini batch of question 1\n",
    "\n",
    "# minibatch_new=get_minibatch()"
   ]
  },
  {
   "cell_type": "code",
   "execution_count": 238,
   "metadata": {
    "colab": {},
    "colab_type": "code",
    "id": "MyDbNSeRpdgL"
   },
   "outputs": [],
   "source": [
    "training_losses=[]\n",
    "training_accuracy=[]\n",
    "def linear_trainer(x_train,y_train,LEARNING_RATE=0.01,BATCH_SIZE=100):\n",
    "    # LEARNING_RATE=0.001\n",
    "    epochs=10\n",
    "    mlp=MLP(input_layer_size=784,hidden_layer_size=128,output_layer_size=10)\n",
    "    for epoch in range(epochs):\n",
    "        epoch_loss=0\n",
    "        correct=0\n",
    "        total=0\n",
    "        miniBatch=get_minibatch(batch_size_param=BATCH_SIZE,training_x=x_train,training_y=y_train)\n",
    "        for index,(input_x,input_y) in enumerate(miniBatch):\n",
    "            input_x_reshaped=np.reshape(input_x,(BATCH_SIZE,28*28))\n",
    "            # print(input_x_reshaped.shape) # 100 x 784\n",
    "            # break\n",
    "            predicted_data=mlp.forward(input_x_reshaped) # 100 x 10\n",
    "            #loss\n",
    "            input_y_one_hot_encoded=one_hot_encoding(input_y,num_classes=10) # 100 x 10\n",
    "            loss=cross_entropy_loss(input_y_one_hot_encoded,predicted_data)\n",
    "            epoch_loss+=loss\n",
    "            mlp.backward(predicted_data - input_y_one_hot_encoded) # passing a 100 x 10 tensor\n",
    "        \n",
    "            mlp.linear_layer1.weight_matrix -= LEARNING_RATE*mlp.linear_layer1.gradient_wrt_weights\n",
    "            mlp.linear_layer_2.weight_matrix -= LEARNING_RATE*mlp.linear_layer_2.gradient_wrt_weights\n",
    "            \n",
    "            if index % BATCH_SIZE == 0:\n",
    "                epoch_loss /= BATCH_SIZE\n",
    "                train_accuracy = accuracy(input_x, input_y_one_hot_encoded, mlp,BATCH_SIZE)\n",
    "                training_losses.append(epoch_loss)\n",
    "                # epoch_loss=0\n",
    "                training_accuracy.append(train_accuracy*100)\n",
    "        return mlp"
   ]
  },
  {
   "cell_type": "code",
   "execution_count": 239,
   "metadata": {},
   "outputs": [
    {
     "name": "stdout",
     "output_type": "stream",
     "text": [
      "96.0%\n"
     ]
    }
   ],
   "source": [
    "linear_classifier=linear_trainer(x_train=training_x,y_train=training_y)\n",
    "print(f\"{np.mean(train_accuracy)*100}%\")"
   ]
  },
  {
   "cell_type": "markdown",
   "metadata": {},
   "source": [
    "### Plot the training loss and training accuracy plot"
   ]
  },
  {
   "cell_type": "code",
   "execution_count": 214,
   "metadata": {},
   "outputs": [
    {
     "data": {
      "image/png": "[encoded data removed]",
      "text/plain": [
       "<Figure size 1000x500 with 1 Axes>"
      ]
     },
     "metadata": {},
     "output_type": "display_data"
    }
   ],
   "source": [
    "# Use the same utility functions defined in the previous question\n",
    "# WRITE CODE HERE\n",
    "from matplotlib import pyplot as plt\n",
    "plt.figure(figsize=(10, 5))\n",
    "\n",
    "plt.subplot(1, 2, 2)\n",
    "plt.plot(training_accuracy, label='Training Accuracy')\n",
    "plt.xlabel('Epoch')\n",
    "plt.ylabel('Accuracy')\n",
    "plt.title('Training Accuracy')\n",
    "plt.legend()\n",
    "\n",
    "plt.show()"
   ]
  },
  {
   "cell_type": "markdown",
   "metadata": {
    "colab": {},
    "colab_type": "code",
    "id": "RH22BqefpdZ4"
   },
   "source": [
    "### Find the accuracy on the validation set"
   ]
  },
  {
   "cell_type": "code",
   "execution_count": 240,
   "metadata": {},
   "outputs": [
    {
     "name": "stdout",
     "output_type": "stream",
     "text": [
      "Accuracy on Validation Set : 89.0%\n"
     ]
    }
   ],
   "source": [
    "# WRITE CODE HERE\n",
    "def linear_classifier_validation(classifier, validation_x, validation_y,BATCH_SIZE):\n",
    "    validation_accuracies = []\n",
    "    validation_minibatch=get_minibatch(training_x=validation_x,training_y=validation_y,batch_size_param=BATCH_SIZE)\n",
    "    for input_x, input_y in validation_minibatch:\n",
    "        one_hot_encoded_labels = one_hot_encoding(input_y, 10)\n",
    "        input_x_reshaped = np.reshape(input_x, (BATCH_SIZE, 28 * 28))\n",
    "        \n",
    "        # Forward pass\n",
    "        scores = classifier.forward(input_x_reshaped)\n",
    "        \n",
    "        # Calculate accuracy\n",
    "        validation_accuracy = accuracy(input_x, one_hot_encoded_labels, classifier,BATCH_SIZE=BATCH_SIZE)\n",
    "        validation_accuracies.append(validation_accuracy)\n",
    "    \n",
    "    # Calculate average accuracy\n",
    "    mean_validation_accuracy = np.mean(validation_accuracies)\n",
    "    # plt.plot(validation_accuracies,label=\"Validation Accuracy\")\n",
    "    \n",
    "    return mean_validation_accuracy\n",
    "val_acc=linear_classifier_validation(linear_classifier,crossval_x,crossval_y,32)\n",
    "print(f\"Accuracy on Validation Set : {round(val_acc,2)*100}%\")"
   ]
  },
  {
   "cell_type": "code",
   "execution_count": 231,
   "metadata": {
    "colab": {},
    "colab_type": "code",
    "id": "7wMDvvA4pdbN"
   },
   "outputs": [
    {
     "name": "stdout",
     "output_type": "stream",
     "text": [
      "16\n",
      "0.03\n"
     ]
    }
   ],
   "source": [
    "# Find the optimal value of learning rate and batch size. \n",
    "# Use the same tuning strategy as the previous question\n",
    "# Create plot and table to show the effect of the hparams.\n",
    "\n",
    "def hyper_param_tuner():\n",
    "    best_batch_size=None\n",
    "    best_learning_rate=None\n",
    "    batch_size_candidates=[8,16,32,64,128,256]\n",
    "    # epoch_size_candidates=[10,20,30,40,50,60]\n",
    "    learning_rate_parameter=[0.1,0.3,0.01,0.03,0.001,0.003]\n",
    "    \n",
    "    highest_accuracy=0\n",
    "\n",
    "    \n",
    "    for batch in batch_size_candidates:\n",
    "        for rate in learning_rate_parameter:\n",
    "            trained_classifier=linear_trainer(BATCH_SIZE=batch,LEARNING_RATE=rate,x_train=training_x,y_train=training_y)\n",
    "            validation_mean_accuracy=linear_classifier_validation(trained_classifier,crossval_x,crossval_y,batch)\n",
    "    \n",
    "            if validation_mean_accuracy>highest_accuracy:\n",
    "                highest_accuracy=validation_mean_accuracy\n",
    "                best_batch_size=batch\n",
    "                best_learning_rate=rate\n",
    "    \n",
    "    print(best_batch_size)\n",
    "    print(best_learning_rate)\n",
    "    return best_batch_size,best_learning_rate\n",
    "best_batch_size,best_learning_rate=hyper_param_tuner()"
   ]
  },
  {
   "cell_type": "markdown",
   "metadata": {
    "colab": {},
    "colab_type": "code",
    "id": "BDrq0GfKpdb8"
   },
   "source": [
    "### Report final performance on MNIST test set"
   ]
  },
  {
   "cell_type": "code",
   "execution_count": 241,
   "metadata": {},
   "outputs": [
    {
     "name": "stdout",
     "output_type": "stream",
     "text": [
      "Test Accuracy : 75.0 % \n"
     ]
    }
   ],
   "source": [
    "# WRITE CODE HERE\n",
    "# print(best_batch_size)\n",
    "best_linear_classifier=linear_trainer(LEARNING_RATE=best_learning_rate,BATCH_SIZE=best_batch_size,x_train=training_x,y_train=training_y)\n",
    "test_label_one_hot_encoded=one_hot_encoding(test_label[0:best_batch_size],10)\n",
    "linear_test_accuracy=accuracy(test_data[0:best_batch_size],test_label_one_hot_encoded,best_train_classifier,best_batch_size)*100\n",
    "print(f\"Test Accuracy : {linear_test_accuracy} % \")"
   ]
  },
  {
   "cell_type": "markdown",
   "metadata": {},
   "source": [
    "### Find the best performing class and the worst performing class"
   ]
  },
  {
   "cell_type": "code",
   "execution_count": 236,
   "metadata": {},
   "outputs": [
    {
     "name": "stdout",
     "output_type": "stream",
     "text": [
      "Best Performing Class : 0\n"
     ]
    }
   ],
   "source": [
    "# WRITE CODE HERE\n",
    "# WRITE CODE HERE\n",
    "linear_class_performance={}\n",
    "def linear_performance_check(input_x,input_y,classifier):\n",
    "    input_x_reshaped = np.reshape(input_x, (len(input_x), 784))\n",
    "    scores = softmax(classifier.forward(input_x_reshaped))\n",
    "    predicted_class = np.argmax(scores, axis=1)\n",
    "    for i in range(len(input_x)):\n",
    "        if input_y[i] != predicted_class[i]:\n",
    "            if input_y[i] not in class_performance:\n",
    "                class_performance[input_y[i]] = 1\n",
    "            else:\n",
    "                class_performance[input_y[i]] += 1\n",
    "\n",
    "linear_performance_check(test_data,test_label,best_linear_classifier)\n",
    "# print(class_performance)\n",
    "\n",
    "class_with_min_error = min(zip(class_performance.values(), class_performance.keys()))[1]\n",
    "print(f\"Best Performing Class : {class_with_min_error}\")"
   ]
  },
  {
   "cell_type": "markdown",
   "metadata": {},
   "source": [
    "### Any additional observations / comments?"
   ]
  },
  {
   "cell_type": "code",
   "execution_count": null,
   "metadata": {},
   "outputs": [],
   "source": []
  },
  {
   "cell_type": "markdown",
   "metadata": {},
   "source": [
    "## BONUS Question\n",
    "### Observe the effect on test set accuracy by changing the number of training samples.\n",
    "### Train on 10%, 20% and 50% training data and plot the percentage of training data v.s. the test accuracy.  "
   ]
  },
  {
   "cell_type": "code",
   "execution_count": 248,
   "metadata": {},
   "outputs": [],
   "source": [
    "# WRITE CODE HERE\n",
    "linear_training_data_size=[0.1,0.2,0.5]\n",
    "linear_test_accuracy=[]\n",
    "for size in linear_training_data_size:\n",
    "    new_training_x,new_test_x,new_training_y,new_test_y=train_test_split(data, labels, test_size=1-size)\n",
    "    model=linear_trainer(LEARNING_RATE=best_learning_rate,BATCH_SIZE=best_batch_size,x_train=new_training_x,y_train=new_training_y)\n",
    "    new_test_label_one_hot_encoded=one_hot_encoding(new_test_y[0:best_batch_size],10)\n",
    "    new_test_accuracy=accuracy(new_test_x[0:best_batch_size],new_test_label_one_hot_encoded,model,best_batch_size)*100\n",
    "    linear_test_accuracy.append(new_test_accuracy)"
   ]
  },
  {
   "cell_type": "code",
   "execution_count": 249,
   "metadata": {},
   "outputs": [
    {
     "data": {
      "image/png": "[encoded data removed]",
      "text/plain": [
       "<Figure size 640x480 with 1 Axes>"
      ]
     },
     "metadata": {},
     "output_type": "display_data"
    }
   ],
   "source": [
    "plt.plot(linear_training_data_size,linear_test_accuracy)\n",
    "plt.title('Test Accuracy vs. Training Data Size')\n",
    "plt.xlabel('Training Data Size')\n",
    "plt.ylabel('Test Accuracy')\n",
    "plt.grid(True)"
   ]
  },
  {
   "cell_type": "markdown",
   "metadata": {
    "colab_type": "text",
    "id": "KX-cXeY3pdhr"
   },
   "source": [
    "\n",
    "# Implementing a Convolution Module with Numpy\n",
    "\n",
    "* This topic will require you to implement the Convolution operation using Numpy.\n",
    "* We will use the Module for tasks like Blurring.\n",
    "* Finally, we implement Backpropagation for the convolution module.\n"
   ]
  },
  {
   "cell_type": "markdown",
   "metadata": {
    "colab_type": "text",
    "id": "kHeieqicpdhz"
   },
   "source": [
    "## Question 4\n",
    "\n",
    "* Implement a naive Convolution module, with basic functionalities: kernel_size, padding, stride and dilation\n",
    "  \n",
    "* Test out the convolution layer by using it to do gaussian blurring on 10 random images of CIFAR-10 dataset\n"
   ]
  },
  {
   "cell_type": "code",
   "execution_count": 205,
   "metadata": {
    "colab": {},
    "colab_type": "code",
    "id": "YoVvSEj0pdh5"
   },
   "outputs": [],
   "source": [
    "## Define a class Convolution Layer, which is initialized with the various required params:\n",
    "class Convolution_Layer():\n",
    "    \n",
    "    def __init__(self,filter_size=3, bias=True, stride=1, padding=0, dilation=1):\n",
    "        \n",
    "        self.filter_size = filter_size\n",
    "        self.stride = stride\n",
    "        self.padding = padding\n",
    "        self.dilation = dilation\n",
    "        self.bias = bias\n",
    "        self.input_channel=3\n",
    "        \n",
    "        # For an untrained layer, set random initial filter weights\n",
    "        self.weights = np.random.randn(self.input_channel, filter_size,filter_size)\n",
    "        \n",
    "    def forward(self,input_image):\n",
    "        \n",
    "        # input_image=input_image.reshape((10000,self.input_channel,32,32))\n",
    "        self.batch_size, self.input_channels, self.input_image_height, self.input_image_width = input_image.shape\n",
    "        self.out_channels = self.weights.shape[0]\n",
    "        \n",
    "        # Calculate output dimensions\n",
    "\n",
    "        self.output_image_height=int(np.floor(self.input_image_height-self.filter_size+ (2*self.padding))+1)\n",
    "        self.output_image_width=int(np.floor(self.input_image_width-self.filter_size+ (2*self.padding))+1)\n",
    "        # print(out_height)\n",
    "        # print(out_width)\n",
    "        # Padding input image\n",
    "        padded_image = np.pad(input_image, ((0,0), (0,0), (self.padding,self.padding), (self.padding,self.padding)), mode='constant')\n",
    "        # Initialize output\n",
    "        output_image = np.zeros((self.batch_size, self.out_channels, self.output_image_height, self.output_image_width))\n",
    "        \n",
    "        # Convolution\n",
    "        for batch in range(self.batch_size):\n",
    "            for channel in range(self.out_channels):\n",
    "                for height in range(self.output_image_height):\n",
    "                    for width in range(self.output_image_width):\n",
    "                        starting_height=height*self.stride\n",
    "                        ending_height=starting_height+self.filter_size\n",
    "                        starting_width=width*self.stride\n",
    "                        ending_width=starting_width+self.filter_size\n",
    "\n",
    "                        region_of_interest=padded_image[batch , : , starting_height:ending_height , starting_width:ending_width]\n",
    "                        # output_image[batch, channel, height, width]=np.dot(region_of_interest.flatten(), self.weights[channel].flatten())\n",
    "                        output_image[batch, channel, height, width] = np.sum(region_of_interest * self.weights[channel])\n",
    "        # Output will be of the size (Batch_size, out_channels, out_height, out_width)\n",
    "        return output_image\n",
    "    \n",
    "    def backward(self, grad_of_output_size):\n",
    "        \n",
    "        grad_weights=grad_of_output_size\n",
    "        return grad_weights\n",
    "    \n",
    "    def set_weights(self, new_weights):\n",
    "        ## Replace the set of weights with the given 'new_weights'\n",
    "        ## use this for setting weights for blurring, bilateral filtering etc. \n",
    "        self.weights = new_weights"
   ]
  },
  {
   "cell_type": "markdown",
   "metadata": {
    "colab": {},
    "colab_type": "code",
    "id": "TDoqiua8pdia"
   },
   "source": [
    "### Download CIFAR-10 images and load it in a numpy array (https://www.cs.toronto.edu/~kriz/cifar.html)\n",
    "\n"
   ]
  },
  {
   "cell_type": "code",
   "execution_count": 206,
   "metadata": {},
   "outputs": [],
   "source": [
    "# WRITE CODE HERE\n",
    "import pickle\n",
    "def load_CIFAR():\n",
    "    # file_path='cifar-10-batches-py\\data_batch_1'\n",
    "    file_path=\"data_batch_1\"\n",
    "    with open(file_path,'rb') as file:\n",
    "        data=pickle.load(file,encoding='bytes')\n",
    "    # for key in data.keys():\n",
    "        # print(key)\n",
    "    image_data=data[b'data']\n",
    "    return image_data\n",
    "input_data=load_CIFAR()"
   ]
  },
  {
   "cell_type": "markdown",
   "metadata": {},
   "source": [
    "### Initialize a conv layer. Set weights for gaussian blurring (do not train the filter for this part). Visualise the filters using matplotlib\n"
   ]
  },
  {
   "cell_type": "code",
   "execution_count": 207,
   "metadata": {},
   "outputs": [
    {
     "data": {
      "image/png": "[encoded data removed]",
      "text/plain": [
       "<Figure size 640x480 with 2 Axes>"
      ]
     },
     "metadata": {},
     "output_type": "display_data"
    }
   ],
   "source": [
    "# WRITE CODE HERE\n",
    "import numpy as np\n",
    "from matplotlib import pyplot as plt\n",
    "\n",
    "filter_size = 3\n",
    "sigma = 1.0\n",
    "depth = 3  # Depth for RGB channels\n",
    "x = np.arange(-filter_size // 2 + 1, filter_size // 2 + 1)\n",
    "gaussian_blur_filter = np.exp(-x**2 / (2 * sigma**2))\n",
    "gaussian_blur_filter = gaussian_blur_filter / np.sum(gaussian_blur_filter)\n",
    "gaussian_blur_filter = np.outer(gaussian_blur_filter, gaussian_blur_filter)\n",
    "gaussian_blur_filter = np.stack([gaussian_blur_filter] * depth, axis=-1)  \n",
    "\n",
    "# sol=Convolution_Layer(filter_size=3)\n",
    "conv_layer = Convolution_Layer(filter_size=3)\n",
    "conv_layer.set_weights(np.array([gaussian_blur_filter]))\n",
    "plt.imshow(gaussian_blur_filter)\n",
    "plt.title('Gaussian Filter')\n",
    "plt.colorbar()\n",
    "plt.show()"
   ]
  },
  {
   "cell_type": "markdown",
   "metadata": {},
   "source": [
    "### Generate output for the first 5 images of the training set"
   ]
  },
  {
   "cell_type": "code",
   "execution_count": 208,
   "metadata": {},
   "outputs": [
    {
     "data": {
      "image/png": "[encoded data removed]",
      "text/plain": [
       "<Figure size 1000x500 with 5 Axes>"
      ]
     },
     "metadata": {},
     "output_type": "display_data"
    }
   ],
   "source": [
    "# WRITE CODE HERE\n",
    "from matplotlib import pyplot as plt\n",
    "\n",
    "\n",
    "plt.figure(figsize=(10,5))\n",
    "plt.subplot(1,5,1)\n",
    "plt.imshow(input_data[0].reshape(3,32,32).transpose(1,2,0))\n",
    "\n",
    "plt.subplot(1,5,2)\n",
    "plt.imshow(input_data[1].reshape(3,32,32).transpose(1,2,0))\n",
    "\n",
    "plt.subplot(1,5,3)\n",
    "plt.imshow(input_data[2].reshape(3,32,32).transpose(1,2,0))\n",
    "\n",
    "plt.subplot(1,5,4)\n",
    "plt.imshow(input_data[3].reshape(3,32,32).transpose(1,2,0))\n",
    "\n",
    "plt.subplot(1,5,5)\n",
    "plt.imshow(input_data[4].reshape(3,32,32).transpose(1,2,0))\n",
    "\n",
    "plt.show()"
   ]
  },
  {
   "cell_type": "markdown",
   "metadata": {},
   "source": [
    "### Use matplotlib to show the input and corresponding blurred output"
   ]
  },
  {
   "cell_type": "code",
   "execution_count": 209,
   "metadata": {},
   "outputs": [
    {
     "data": {
      "image/png": "[encoded data removed]",
      "text/plain": [
       "<Figure size 1200x500 with 10 Axes>"
      ]
     },
     "metadata": {},
     "output_type": "display_data"
    }
   ],
   "source": [
    "# WRITE CODE HERE\n",
    "import matplotlib.pyplot as plt\n",
    "import cv2\n",
    "num_of_training_images=5\n",
    "sample_images=input_data[:5]\n",
    "blurred_images=conv_layer.forward(sample_images.reshape(5,3,32,32))\n",
    "\n",
    "plt.figure(figsize=(12,5))\n",
    "for i in range(num_of_training_images):\n",
    "    blurred_image=conv_layer.forward(input_data[i].reshape(1,3,32,32))\n",
    "\n",
    "    plt.subplot(2,num_of_training_images,i+1)\n",
    "    plt.imshow(input_data[i].reshape(3,32,32).transpose(1,2,0))\n",
    "    plt.title(\"Actual Image\")\n",
    "\n",
    "    plt.subplot(2,num_of_training_images,num_of_training_images+i+1)\n",
    "    plt.imshow(blurred_image[0].transpose(1,2,0),cmap=\"gray\")\n",
    "    plt.title(\"Gaussian Blurred Images\")\n",
    "\n",
    "plt.tight_layout()\n",
    "plt.show()"
   ]
  },
  {
   "cell_type": "markdown",
   "metadata": {
    "colab_type": "text",
    "id": "zmsPeOEOpdi8"
   },
   "source": [
    "## Question 5\n",
    "<br>\n",
    "Now we will use this module for training a simple Convolution Layer using CIFAR-10 images. \n",
    "\n",
    "* The goal is to learn a set of weights, by using the backpropagation function created. To test the backpropagation, instead of training a whole network, we will train only a single layer.\n",
    "  * Instantiate a Convolution  layer $C_0$ with 20 filters, each with size 5$\\times$5 (RGB image, so 3 input channels). Load the given numpy array of size (20,3,5,5), which represents the weights of a convolution layer. Set the given values as the filter weights for $C_0$. Take 100 CIFAR-10 images. Save the output of these 100 images generated from this Convolution layer $C_0$. \n",
    "  \n",
    "  * Now, initialize a new convolution layer $C$ with weight values sampled from uniform distribution [-1,1]. Use the $L_2$ loss between the output of this layer $C$ and the output generated in the previous step to learn the filter weights of $C_0$.\n"
   ]
  },
  {
   "cell_type": "code",
   "execution_count": 210,
   "metadata": {
    "colab": {},
    "colab_type": "code",
    "id": "p8dGnMHOpdjD"
   },
   "outputs": [
    {
     "name": "stdout",
     "output_type": "stream",
     "text": [
      "(20, 3, 5, 5)\n"
     ]
    }
   ],
   "source": [
    "## Load filter weights from given numpy array \"C0_weights.npy\".\n",
    "## Init a conv layer C_0 with these given weights\n",
    "import numpy as np\n",
    "conv_weight_matrix=np.load(\"C0_weights.npy\")\n",
    "## For all images get output. Store in numpy array.\n",
    "print(conv_weight_matrix.shape)\n",
    "C_0=Convolution_Layer(filter_size=5)\n",
    "C_0.set_weights(conv_weight_matrix)\n"
   ]
  },
  {
   "cell_type": "code",
   "execution_count": 211,
   "metadata": {
    "colab": {},
    "colab_type": "code",
    "id": "nhhHA4UCpdji"
   },
   "outputs": [
    {
     "name": "stdout",
     "output_type": "stream",
     "text": [
      "(3, 5, 5)\n"
     ]
    }
   ],
   "source": [
    "# for part 2 we need to write a class for the  L2 loss\n",
    "import numpy as np\n",
    "class L2_loss():\n",
    "    def ___init__(self):\n",
    "        pass\n",
    "    def forward(self, C0_output,C_output):\n",
    "        # Conv. output is of dimension (batchsize,channels,height,width)\n",
    "        # calculate the L2 norm of (C0_output - C_output)\n",
    "        L2_norm=np.sqrt(np.sum((C0_output-C_output)**2))\n",
    "        return L2_norm\n",
    "    \n",
    "    def backward(self,output_grad):\n",
    "        # from the loss, and the conv. output, get the grad at each location\n",
    "        # The grad is of the shape (batchsize,channels,height,width)\n",
    "        return output_grad\n",
    "\n",
    "# Now Init a new conv layer C and a L2 loss layer\n",
    "uniform_weights=np.random.uniform(size=(3,5,5))\n",
    "print(uniform_weights.shape)\n",
    "# Train the new conv-layer C using the L2 loss to learn C_0, i.e., the set of given weights.\n",
    "# Use mini-batches if required\n",
    "\n",
    "\n",
    "# Print L2 dist between output from the new trained convolution layer C and the outputs generated from C_0.\n"
   ]
  },
  {
   "cell_type": "code",
   "execution_count": 212,
   "metadata": {},
   "outputs": [],
   "source": [
    "def modified_load_CIFAR(batch_num):\n",
    "    # file_path='cifar-10-batches-py\\data_batch_1'\n",
    "    file_path=f\"data_batch_{batch_num}\"\n",
    "    with open(file_path,'rb') as file:\n",
    "        data=pickle.load(file,encoding='bytes')\n",
    "    # for key in data.keys():\n",
    "        # print(key)\n",
    "    image_data=data[b'data']\n",
    "    return image_data\n",
    "# input_data=load_CIFAR()"
   ]
  },
  {
   "cell_type": "code",
   "execution_count": 213,
   "metadata": {},
   "outputs": [
    {
     "name": "stdout",
     "output_type": "stream",
     "text": [
      "(10000, 3072)\n",
      "L2 distance between C_output_final and C0_output: 5661470.045074505\n"
     ]
    }
   ],
   "source": [
    "C = Convolution_Layer(filter_size=5)\n",
    "C.set_weights(np.random.uniform(size=(20, 3, 5, 5)))\n",
    "\n",
    "# Initialize L2 loss layer\n",
    "l2_loss = L2_loss()\n",
    "\n",
    "# Train the new conv-layer C using the L2 loss to learn C_0\n",
    "num_images = 100\n",
    "batch_size = 10\n",
    "num_batches = 1\n",
    "\n",
    "\n",
    "for batch in range(num_batches):\n",
    "    # Get mini-batch of CIFAR-10 images\n",
    "    # Assuming you have a function to load CIFAR-10 images\n",
    "    images_batch = modified_load_CIFAR(batch+1)\n",
    "    print(images_batch.shape)\n",
    "    # Forward pass through both convolution layers\n",
    "    C0_output = C_0.forward(images_batch[:100].reshape(100,3,32,32))\n",
    "    C_output = C.forward(images_batch[:100].reshape(100,3,32,32))\n",
    "    \n",
    "    # Calculate L2 loss\n",
    "    loss = l2_loss.forward(C0_output, C_output)\n",
    "    \n",
    "    # Backward pass to compute gradients\n",
    "    loss_grad = l2_loss.backward(1)  # Gradient of loss w.r.t. itself is 1\n",
    "    grad = C.backward(loss_grad)\n",
    "    \n",
    "    # Update weights of C using gradient descent\n",
    "    # Assuming you have a method for updating weights in Convolution_Layer class\n",
    "    learning_rate = 0.01\n",
    "    C.weights -= learning_rate * grad\n",
    "        \n",
    "# Generate output from the trained convolution layer C\n",
    "C_output_final = C.forward(images_batch[:100].reshape(100,3,32,32))\n",
    "\n",
    "# Calculate L2 distance between C_output_final and C0_output\n",
    "l2_distance = l2_loss.forward(C0_output, C_output_final)\n",
    "print(\"L2 distance between C_output_final and C0_output:\", l2_distance)"
   ]
  },
  {
   "cell_type": "code",
   "execution_count": null,
   "metadata": {},
   "outputs": [],
   "source": []
  },
  {
   "cell_type": "code",
   "execution_count": null,
   "metadata": {},
   "outputs": [],
   "source": []
  }
 ],
 "metadata": {
  "anaconda-cloud": {},
  "colab": {
   "collapsed_sections": [],
   "name": "DLCV_Assignment_2-edit.ipynb",
   "provenance": []
  },
  "interpreter": {
   "hash": "6945496b114ae6c8dbcad4f53e4fc084fdd8255c08c862c02a1152642bece680"
  },
  "kernelspec": {
   "display_name": "Python 3 (ipykernel)",
   "language": "python",
   "name": "python3"
  },
  "language_info": {
   "codemirror_mode": {
    "name": "ipython",
    "version": 3
   },
   "file_extension": ".py",
   "mimetype": "text/x-python",
   "name": "python",
   "nbconvert_exporter": "python",
   "pygments_lexer": "ipython3",
   "version": "3.11.5"
  }
 },
 "nbformat": 4,
 "nbformat_minor": 4
}

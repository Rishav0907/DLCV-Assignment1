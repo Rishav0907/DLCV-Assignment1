{
 "cells": [
  {
   "cell_type": "code",
   "execution_count": 1,
   "id": "04e3690f-a8e6-40e3-8f08-a46c8ce38bab",
   "metadata": {
    "tags": []
   },
   "outputs": [
    {
     "ename": "IndentationError",
     "evalue": "expected an indented block after function definition on line 2 (1244084932.py, line 4)",
     "output_type": "error",
     "traceback": [
      "\u001b[1;36m  Cell \u001b[1;32mIn[1], line 4\u001b[1;36m\u001b[0m\n\u001b[1;33m    def forward():\u001b[0m\n\u001b[1;37m    ^\u001b[0m\n\u001b[1;31mIndentationError\u001b[0m\u001b[1;31m:\u001b[0m expected an indented block after function definition on line 2\n"
     ]
    }
   ],
   "source": [
    "import numpy as np\n",
    "class Sigmoid():\n",
    "    def __init__(self):\n",
    "        \n",
    "    def forward(self,x,y,z):\n",
    "        # save values useful for backpropagation\n",
    "        self.x=x\n",
    "        self.y=y\n",
    "        self.z=z\n",
    "    def backward():\n",
    "        pi_x=np."
   ]
  },
  {
   "cell_type": "code",
   "execution_count": null,
   "id": "a0da3d2a-4b7d-4602-9c74-4517dc5078df",
   "metadata": {},
   "outputs": [],
   "source": [
    "func=Sigmoid()\n",
    "func.(2,4,1)"
   ]
  }
 ],
 "metadata": {
  "kernelspec": {
   "display_name": "Python 3 (ipykernel)",
   "language": "python",
   "name": "python3"
  },
  "language_info": {
   "codemirror_mode": {
    "name": "ipython",
    "version": 3
   },
   "file_extension": ".py",
   "mimetype": "text/x-python",
   "name": "python",
   "nbconvert_exporter": "python",
   "pygments_lexer": "ipython3",
   "version": "3.11.5"
  }
 },
 "nbformat": 4,
 "nbformat_minor": 5
}
